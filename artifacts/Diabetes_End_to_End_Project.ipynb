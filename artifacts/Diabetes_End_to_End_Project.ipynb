{
 "cells": [
  {
   "cell_type": "markdown",
   "id": "1570dcba",
   "metadata": {},
   "source": [
    "# Project Lifecylcle"
   ]
  },
  {
   "cell_type": "raw",
   "id": "00c17c5b",
   "metadata": {},
   "source": [
    "1.Project Statement IMP\n",
    "2.Data Gathering\n",
    "2.1 Github repository\n",
    "2.2 conda environment\n",
    "3.EDA\n",
    "4.Feature Engineering\n",
    "5.Feature selection\n",
    "6.Model Training\n",
    "7.Model Evaluation\n",
    "8.model Dump in pickle file\n",
    "9.Flask API for our project\n",
    "10.API test(Postman)\n",
    "11.Model Deployment(AWS)"
   ]
  },
  {
   "cell_type": "raw",
   "id": "a8c6ae99",
   "metadata": {},
   "source": [
    "Problem Statement: To Predict whether a person is Diabetes Patient or not based on medical parameters."
   ]
  },
  {
   "cell_type": "raw",
   "id": "112e5382",
   "metadata": {},
   "source": [
    "Data Gathering:Diabetes.csv"
   ]
  },
  {
   "cell_type": "code",
   "execution_count": null,
   "id": "78b1e5aa",
   "metadata": {},
   "outputs": [],
   "source": []
  }
 ],
 "metadata": {
  "kernelspec": {
   "display_name": "Python 3 (ipykernel)",
   "language": "python",
   "name": "python3"
  },
  "language_info": {
   "codemirror_mode": {
    "name": "ipython",
    "version": 3
   },
   "file_extension": ".py",
   "mimetype": "text/x-python",
   "name": "python",
   "nbconvert_exporter": "python",
   "pygments_lexer": "ipython3",
   "version": "3.10.1"
  }
 },
 "nbformat": 4,
 "nbformat_minor": 5
}
